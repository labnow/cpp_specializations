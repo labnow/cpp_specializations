{
 "cells": [
  {
   "cell_type": "code",
   "execution_count": 5,
   "metadata": {},
   "outputs": [
    {
     "name": "stdout",
     "output_type": "stream",
     "text": [
      "615 1997 1997\n",
      "152 615 615\n",
      "7 152 152\n",
      "5 7 7\n",
      "2 5 5\n",
      "1 2 2\n",
      "0 1 1\n"
     ]
    },
    {
     "data": {
      "text/plain": [
       "1"
      ]
     },
     "execution_count": 5,
     "metadata": {},
     "output_type": "execute_result"
    }
   ],
   "source": [
    "#   int a = sumd, b = sumn, c;\n",
    "#   while (a != 0) {\n",
    "    # c = a; a = b%a; b = c;\n",
    "#   }\n",
    "\n",
    "a = 1997\n",
    "b = 615\n",
    "while(a!=0):\n",
    "    tmp = a\n",
    "    a = b%a\n",
    "    b = tmp\n",
    "    print(a, b, tmp)\n",
    "\n",
    "b"
   ]
  },
  {
   "cell_type": "code",
   "execution_count": 6,
   "metadata": {},
   "outputs": [
    {
     "name": "stdout",
     "output_type": "stream",
     "text": [
      "1997 615 615\n",
      "615 152 152\n",
      "152 7 7\n",
      "7 5 5\n",
      "5 2 2\n",
      "2 1 1\n",
      "1 0 0\n"
     ]
    }
   ],
   "source": [
    "a = 615\n",
    "b = 1997\n",
    "c = 1\n",
    "while(c != 0):\n",
    "    # tmp = \n",
    "    c = a%b\n",
    "    a = b\n",
    "    b = c\n",
    "    print(a, b, c)"
   ]
  },
  {
   "cell_type": "code",
   "execution_count": 16,
   "metadata": {},
   "outputs": [
    {
     "name": "stdout",
     "output_type": "stream",
     "text": [
      "123 4\n",
      "12 7\n",
      "1 9\n",
      "0 10\n"
     ]
    }
   ],
   "source": [
    "a = 1234\n",
    "sum = 0\n",
    "while(a>0):\n",
    "    sum+=a%10\n",
    "    a=int(a/10)\n",
    "    print(a, sum)\n",
    "\n",
    "# sum"
   ]
  },
  {
   "cell_type": "code",
   "execution_count": 14,
   "metadata": {},
   "outputs": [
    {
     "data": {
      "text/plain": [
       "3"
      ]
     },
     "execution_count": 14,
     "metadata": {},
     "output_type": "execute_result"
    }
   ],
   "source": [
    "a=123\n",
    "# a/=10\n",
    "a%10\n"
   ]
  }
 ],
 "metadata": {
  "interpreter": {
   "hash": "31f2aee4e71d21fbe5cf8b01ff0e069b9275f58929596ceb00d14d90e3e16cd6"
  },
  "kernelspec": {
   "display_name": "Python 3.8.10 64-bit",
   "language": "python",
   "name": "python3"
  },
  "language_info": {
   "codemirror_mode": {
    "name": "ipython",
    "version": 3
   },
   "file_extension": ".py",
   "mimetype": "text/x-python",
   "name": "python",
   "nbconvert_exporter": "python",
   "pygments_lexer": "ipython3",
   "version": "3.8.10"
  },
  "orig_nbformat": 4
 },
 "nbformat": 4,
 "nbformat_minor": 2
}
